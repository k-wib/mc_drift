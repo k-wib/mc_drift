{
 "cells": [
  {
   "cell_type": "code",
   "execution_count": 118,
   "id": "f7e2f411",
   "metadata": {},
   "outputs": [],
   "source": [
    "import pandas as pd\n",
    "import numpy as np\n",
    "import matplotlib.pyplot as plt\n",
    "from mcdrift import *"
   ]
  },
  {
   "cell_type": "markdown",
   "id": "a622b708",
   "metadata": {},
   "source": [
    "We consider a toy example in which $N=3$, $P_0 = \\begin{pmatrix}\n",
    "0.2 & 0.3 & 0.5\\\\\n",
    "0.1 & 0.8 & 0.1\\\\\n",
    "0.3 & 0.4 & 0.3\n",
    "\\end{pmatrix}$, $P_1 = \\begin{pmatrix}\n",
    "0.8 & 0.1 & 0.1\\\\\n",
    "0.6 & 0.2 & 0.2\\\\\n",
    "0.4 & 0.1 & 0.5\n",
    "\\end{pmatrix}$ and $\\pi = (1/3, 1/3, 1/3)$.\n",
    "\n",
    "We set $T = 10000$, $t^* = 2000$, $L = 1000$ (for NP-CDM), $K = 3$ and $W = 5$"
   ]
  },
  {
   "cell_type": "code",
   "execution_count": 119,
   "id": "73bdc109",
   "metadata": {},
   "outputs": [],
   "source": [
    "N = 3 # number of states\n",
    "p0 = np.array([[0.2, 0.3, 0.5], [0.1, 0.8, 0.1], [0.3, 0.4, 0.3]]) # initial transition matrix\n",
    "p1 = np.array([[0.8, 0.1, 0.1], [0.6, 0.2, 0.2], [0.4, 0.1, 0.5]]) # modified transition matrix\n",
    "T = 10000 # sequence length\n",
    "tstar = 2000 # time when abrupt change occurs\n",
    "L = 1000 # number of observations guaranteed to come from p0\n",
    "K = 3 # detection threshold\n",
    "W = 5 # subsequence length\n",
    "pi = np.array([1/3, 1/3, 1/3]) # initial distribution\n",
    "\n",
    "seed = 2023 # for reproducibility"
   ]
  },
  {
   "cell_type": "markdown",
   "id": "f9b6fcc8",
   "metadata": {},
   "source": [
    "We first generate the sequence $\\mathcal{T} = \\{s_1, \\cdots, s_T\\}$."
   ]
  },
  {
   "cell_type": "code",
   "execution_count": 120,
   "id": "8d20c3f2",
   "metadata": {},
   "outputs": [],
   "source": [
    "np.random.seed(seed)\n",
    "\n",
    "seq_sim = simulate_mc(pi, p0, tstar) # generate observations before shift\n",
    "\n",
    "init_vec = np.zeros(N)\n",
    "init_vec[seq_sim[-1]] = 1\n",
    "\n",
    "seq_sim_2 = simulate_mc(init_vec, p1, T - tstar + 1) # generate observations after shift\n",
    "\n",
    "seq_comb = seq_sim + seq_sim_2[1:] # combine observations into a list"
   ]
  },
  {
   "cell_type": "markdown",
   "id": "89635132",
   "metadata": {},
   "source": [
    "Apply algorithm 1 (P-CDM)"
   ]
  },
  {
   "cell_type": "code",
   "execution_count": 121,
   "id": "adf3f56d",
   "metadata": {},
   "outputs": [
    {
     "data": {
      "text/plain": [
       "402"
      ]
     },
     "execution_count": 121,
     "metadata": {},
     "output_type": "execute_result"
    }
   ],
   "source": [
    "#Arguments: sequence, W, p0, p1, K\n",
    "pcdm(seq_comb, W, p0, p1, K)"
   ]
  },
  {
   "cell_type": "markdown",
   "id": "b9c186a3",
   "metadata": {},
   "source": [
    "The algorithm returns 402, which means it detects the shift in subsequence 402. In other word, the model predict that the shift occurs in $s_k$, where $2011 \\leq k \\leq 2015$."
   ]
  },
  {
   "cell_type": "markdown",
   "id": "5e736663",
   "metadata": {},
   "source": [
    "Apply algorithm 2 (NP-CDM)"
   ]
  },
  {
   "cell_type": "code",
   "execution_count": 122,
   "id": "460c4ce4",
   "metadata": {},
   "outputs": [
    {
     "data": {
      "text/plain": [
       "210"
      ]
     },
     "execution_count": 122,
     "metadata": {},
     "output_type": "execute_result"
    }
   ],
   "source": [
    "# Argument: sequence, W, N, L, K):\n",
    "npcdm(seq_comb, W, N, L, K)"
   ]
  },
  {
   "cell_type": "markdown",
   "id": "d8116e19",
   "metadata": {},
   "source": [
    "The algorithm returns 210, which means it detects the shift in subsequence 210. In other word, the model predict that the shift occurs in $s_k$, where $1051 \\leq k \\leq 1055$."
   ]
  }
 ],
 "metadata": {
  "kernelspec": {
   "display_name": "Python 3 (ipykernel)",
   "language": "python",
   "name": "python3"
  },
  "language_info": {
   "codemirror_mode": {
    "name": "ipython",
    "version": 3
   },
   "file_extension": ".py",
   "mimetype": "text/x-python",
   "name": "python",
   "nbconvert_exporter": "python",
   "pygments_lexer": "ipython3",
   "version": "3.9.7"
  }
 },
 "nbformat": 4,
 "nbformat_minor": 5
}
