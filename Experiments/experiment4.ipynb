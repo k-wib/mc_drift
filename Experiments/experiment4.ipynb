{
 "cells": [
  {
   "cell_type": "code",
   "execution_count": 2,
   "id": "f3bfc0b8",
   "metadata": {},
   "outputs": [],
   "source": [
    "import pandas as pd\n",
    "import numpy as np\n",
    "import matplotlib.pyplot as plt\n",
    "from tqdm import tqdm\n",
    "from mcdrift import *"
   ]
  },
  {
   "cell_type": "markdown",
   "id": "c0b07fb5",
   "metadata": {},
   "source": [
    "In this experiment, we would like to compare the performance of P-CDM and NP-CDM, in terms of false positive rates. We set the following parameters:\n",
    "\n",
    "1. $N = 5$ (number of states)\n",
    "\n",
    "2. $T = 10,000$ (sequence length)\n",
    "\n",
    "3. $L = 1,000$ (number of observations guaranteed to come from $P_0$)\n",
    "\n",
    "4. $W \\in \\{2, 5, 10, 50, 100\\}$ (subsequence length)\n",
    "\n",
    "5. $K \\in \\{1, 2, 5, 10, 20, 50\\}$ (detection threshold)\n",
    "\n",
    "We randomly generate $P_0$ from the standard uniform distribution and normalize such that each row sums to 1. We set $\\pi = (0.2, 0.2, 0.2, 0.2, 0.2)$.\n",
    "\n",
    "Also, we estimate the time of abrupt change using the center of the predicted interval. For example, when $W = 10$ and the change is detected in $s_k$ with $91 \\leq k \\leq 100$, the estimated time is simply $(100+91)/2 = 95.5$.\n",
    "\n",
    "We repeat the experiments $500$ times and calculate the false positive rates."
   ]
  },
  {
   "cell_type": "code",
   "execution_count": 7,
   "id": "3fbacf17",
   "metadata": {},
   "outputs": [],
   "source": [
    "N = 5\n",
    "T = 10000\n",
    "tstar = 2000\n",
    "L = 1000\n",
    "Ws = [2, 5, 10, 50, 100]\n",
    "Ks = [1, 2, 5, 10, 20, 50]\n",
    "pi = np.array([1/5, 1/5, 1/5, 1/5, 1/5])\n",
    "\n",
    "result_dict_p = {}\n",
    "result_dict_np = {}\n",
    "\n",
    "\n",
    "for W in Ws:\n",
    "    for K in Ks:\n",
    "        result_dict_p[(W,K)] = 0\n",
    "        result_dict_np[(W,K)] = 0\n",
    "\n",
    "seed = 2023\n",
    "n_rep = 500"
   ]
  },
  {
   "cell_type": "code",
   "execution_count": 8,
   "id": "045495cf",
   "metadata": {},
   "outputs": [
    {
     "name": "stderr",
     "output_type": "stream",
     "text": [
      "  2%|▏         | 8/500 [00:15<16:40,  2.03s/it]/home/kwib/mcdrift.py:116: RuntimeWarning: invalid value encountered in scalar subtract\n",
      "  l = ll1 - ll0\n",
      "100%|██████████| 500/500 [19:57<00:00,  2.39s/it]\n"
     ]
    }
   ],
   "source": [
    "np.random.seed(seed)\n",
    "\n",
    "for _ in tqdm(range(n_rep)):\n",
    "    p0 = np.random.rand(N,N)\n",
    "    p0 = p0/p0.sum(axis=1,keepdims=1)\n",
    "    p1 = np.random.rand(N,N)\n",
    "    p1 = p1/p1.sum(axis=1,keepdims=1)\n",
    "\n",
    "    seq_comb = simulate_mc(pi, p0, T)\n",
    "\n",
    "    for W in Ws:\n",
    "        for K in Ks:\n",
    "            pcdm_res = pcdm(seq_comb, W, p0, p1, K)\n",
    "            npcdm_res = npcdm(seq_comb, W, N, L, K)\n",
    "            if type(pcdm_res) != str:\n",
    "                result_dict_p[(W,K)] += 1/n_rep\n",
    "            if type(npcdm_res) != str:\n",
    "                result_dict_np[(W,K)] += 1/n_rep"
   ]
  },
  {
   "cell_type": "code",
   "execution_count": 9,
   "id": "fbdb2f5a",
   "metadata": {
    "scrolled": true
   },
   "outputs": [
    {
     "data": {
      "text/plain": [
       "{(2, 1): 100.00000000000007,\n",
       " (2, 2): 100.00000000000007,\n",
       " (2, 5): 97.00000000000007,\n",
       " (2, 10): 49.40000000000004,\n",
       " (2, 20): 7.800000000000005,\n",
       " (2, 50): 1.4000000000000001,\n",
       " (5, 1): 100.00000000000007,\n",
       " (5, 2): 100.00000000000007,\n",
       " (5, 5): 46.20000000000004,\n",
       " (5, 10): 0.8,\n",
       " (5, 20): 0,\n",
       " (5, 50): 0,\n",
       " (10, 1): 100.00000000000007,\n",
       " (10, 2): 95.40000000000008,\n",
       " (10, 5): 3.600000000000002,\n",
       " (10, 10): 0,\n",
       " (10, 20): 0,\n",
       " (10, 50): 0,\n",
       " (50, 1): 26.200000000000017,\n",
       " (50, 2): 0.6,\n",
       " (50, 5): 0,\n",
       " (50, 10): 0,\n",
       " (50, 20): 0,\n",
       " (50, 50): 0,\n",
       " (100, 1): 1.2,\n",
       " (100, 2): 0,\n",
       " (100, 5): 0,\n",
       " (100, 10): 0,\n",
       " (100, 20): 0,\n",
       " (100, 50): 0}"
      ]
     },
     "execution_count": 9,
     "metadata": {},
     "output_type": "execute_result"
    }
   ],
   "source": [
    "{k:100*v for k,v in result_dict_p.items()}"
   ]
  },
  {
   "cell_type": "code",
   "execution_count": 10,
   "id": "1719965c",
   "metadata": {
    "scrolled": true
   },
   "outputs": [
    {
     "data": {
      "text/plain": [
       "{(2, 1): 99.80000000000008,\n",
       " (2, 2): 99.60000000000008,\n",
       " (2, 5): 99.20000000000007,\n",
       " (2, 10): 97.20000000000007,\n",
       " (2, 20): 94.20000000000007,\n",
       " (2, 50): 84.80000000000007,\n",
       " (5, 1): 99.40000000000008,\n",
       " (5, 2): 99.00000000000007,\n",
       " (5, 5): 96.80000000000007,\n",
       " (5, 10): 91.60000000000007,\n",
       " (5, 20): 84.80000000000007,\n",
       " (5, 50): 51.000000000000036,\n",
       " (10, 1): 99.00000000000007,\n",
       " (10, 2): 97.80000000000008,\n",
       " (10, 5): 93.00000000000007,\n",
       " (10, 10): 87.40000000000006,\n",
       " (10, 20): 71.40000000000005,\n",
       " (10, 50): 24.60000000000002,\n",
       " (50, 1): 96.00000000000007,\n",
       " (50, 2): 92.00000000000007,\n",
       " (50, 5): 84.60000000000007,\n",
       " (50, 10): 60.600000000000044,\n",
       " (50, 20): 22.200000000000017,\n",
       " (50, 50): 0.8,\n",
       " (100, 1): 92.00000000000007,\n",
       " (100, 2): 88.60000000000007,\n",
       " (100, 5): 74.80000000000005,\n",
       " (100, 10): 39.00000000000003,\n",
       " (100, 20): 8.200000000000006,\n",
       " (100, 50): 0}"
      ]
     },
     "execution_count": 10,
     "metadata": {},
     "output_type": "execute_result"
    }
   ],
   "source": [
    "{k:100*v for k,v in result_dict_np.items()}"
   ]
  }
 ],
 "metadata": {
  "kernelspec": {
   "display_name": "Python 3 (ipykernel)",
   "language": "python",
   "name": "python3"
  },
  "language_info": {
   "codemirror_mode": {
    "name": "ipython",
    "version": 3
   },
   "file_extension": ".py",
   "mimetype": "text/x-python",
   "name": "python",
   "nbconvert_exporter": "python",
   "pygments_lexer": "ipython3",
   "version": "3.9.7"
  }
 },
 "nbformat": 4,
 "nbformat_minor": 5
}
