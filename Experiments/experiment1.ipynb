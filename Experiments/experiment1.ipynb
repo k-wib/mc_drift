{
 "cells": [
  {
   "cell_type": "code",
   "execution_count": 63,
   "id": "50f78c91",
   "metadata": {},
   "outputs": [],
   "source": [
    "import pandas as pd\n",
    "import numpy as np\n",
    "import matplotlib.pyplot as plt\n",
    "from tqdm import tqdm\n",
    "from mcdrift import *"
   ]
  },
  {
   "cell_type": "markdown",
   "id": "d1af98da",
   "metadata": {},
   "source": [
    "In this experiment, we would like to compare the performance of P-CDM and NP-CDM. We set the following parameters:\n",
    "\n",
    "1. $N = 5$ (number of states)\n",
    "\n",
    "2. $T = 10,000$ (sequence length)\n",
    "\n",
    "3. $t^* = 2,000$ (time abrupt change occurs)\n",
    "\n",
    "4. $L = 1,000$ (number of observations guaranteed to come from $P_0$)\n",
    "\n",
    "5. $W \\in \\{2, 5, 10, 50, 100\\}$ (subsequence length)\n",
    "\n",
    "6. $K \\in \\{1, 2, 5, 10, 20, 50\\}$ (detection threshold)\n",
    "\n",
    "We randomly generate $P_0$ and $P_1$ from the standard uniform distribution and normalize such that each row sums to 1. We set $\\pi = (0.2, 0.2, 0.2, 0.2, 0.2)$.\n",
    "\n",
    "Also, we estimate the time of abrupt change using the center of the predicted interval. For example, when $W = 10$ and the change is detected in $s_k$ with $91 \\leq k \\leq 100$, the estimated time is simply $(100+91)/2 = 95.5$.\n",
    "\n",
    "We repeat the experiments $500$ times and take the average of the estimated times."
   ]
  },
  {
   "cell_type": "code",
   "execution_count": 86,
   "id": "6c2626ca",
   "metadata": {},
   "outputs": [],
   "source": [
    "N = 5\n",
    "T = 10000\n",
    "tstar = 2000\n",
    "L = 1000\n",
    "Ws = [2, 5, 10, 50, 100]\n",
    "Ks = [1, 2, 5, 10, 20, 50]\n",
    "pi = np.array([1/5, 1/5, 1/5, 1/5, 1/5])\n",
    "\n",
    "result_dict_p = {}\n",
    "result_dict_np = {}\n",
    "\n",
    "\n",
    "for W in Ws:\n",
    "    for K in Ks:\n",
    "        result_dict_p[(W,K)] = 0\n",
    "        result_dict_np[(W,K)] = 0\n",
    "\n",
    "seed = 2023\n",
    "n_rep = 500"
   ]
  },
  {
   "cell_type": "code",
   "execution_count": 87,
   "id": "2eeff507",
   "metadata": {},
   "outputs": [
    {
     "name": "stderr",
     "output_type": "stream",
     "text": [
      "100%|██████████| 500/500 [15:50<00:00,  1.90s/it]\n"
     ]
    }
   ],
   "source": [
    "np.random.seed(seed)\n",
    "\n",
    "for _ in tqdm(range(n_rep)):\n",
    "    p0 = np.random.rand(N,N)\n",
    "    p0 = p0/p0.sum(axis=1,keepdims=1)\n",
    "    p1 = np.random.rand(N,N)\n",
    "    p1 = p1/p1.sum(axis=1,keepdims=1)\n",
    "\n",
    "    seq_sim = simulate_mc(pi, p0, tstar)\n",
    "    init_vec = np.zeros(N)\n",
    "    init_vec[seq_sim[-1]] = 1\n",
    "    seq_sim_2 = simulate_mc(init_vec, p1, T - tstar + 1)\n",
    "    seq_comb = seq_sim + seq_sim_2[1:]\n",
    "    \n",
    "    for W in Ws:\n",
    "        for K in Ks:\n",
    "            pcdm_res = pcdm(seq_comb, W, p0, p1, K)\n",
    "            npcdm_res = npcdm(seq_comb, W, N, L, K)\n",
    "            if type(pcdm_res) == str:\n",
    "                pcdm_res = T/W\n",
    "            if type(npcdm_res) == str:\n",
    "                npcdm_res = T/W\n",
    "            result_dict_p[(W,K)] += (2 * W * pcdm_res + W + 1)/(2 * n_rep)\n",
    "            result_dict_np[(W,K)] += (2 * W * npcdm_res + W + 1)/(2 * n_rep)"
   ]
  },
  {
   "cell_type": "code",
   "execution_count": 88,
   "id": "523521e2",
   "metadata": {
    "scrolled": true
   },
   "outputs": [
    {
     "data": {
      "text/plain": [
       "{(2, 1): 6.456000000000002,\n",
       " (2, 2): 28.020000000000003,\n",
       " (2, 5): 590.9360000000001,\n",
       " (2, 10): 1725.2879999999986,\n",
       " (2, 20): 2105.9560000000006,\n",
       " (2, 50): 2433.6559999999995,\n",
       " (5, 1): 28.38999999999997,\n",
       " (5, 2): 221.85000000000014,\n",
       " (5, 5): 1858.690000000007,\n",
       " (5, 10): 2073.719999999995,\n",
       " (5, 20): 2155.690000000004,\n",
       " (5, 50): 2400.890000000003,\n",
       " (10, 1): 132.62000000000012,\n",
       " (10, 2): 1106.3999999999978,\n",
       " (10, 5): 2043.039999999992,\n",
       " (10, 10): 2116.1400000000026,\n",
       " (10, 20): 2240.7800000000043,\n",
       " (10, 50): 2614.419999999999,\n",
       " (50, 1): 1945.89999999999,\n",
       " (50, 2): 2074.600000000011,\n",
       " (50, 5): 2226.000000000009,\n",
       " (50, 10): 2477.400000000009,\n",
       " (50, 20): 2980.6000000000076,\n",
       " (50, 50): 4489.400000000006,\n",
       " (100, 1): 2044.500000000028,\n",
       " (100, 2): 2150.4999999999864,\n",
       " (100, 5): 2450.499999999997,\n",
       " (100, 10): 2950.499999999984,\n",
       " (100, 20): 3950.4999999999677,\n",
       " (100, 50): 6951.699999999949}"
      ]
     },
     "execution_count": 88,
     "metadata": {},
     "output_type": "execute_result"
    }
   ],
   "source": [
    "result_dict_p"
   ]
  },
  {
   "cell_type": "code",
   "execution_count": 89,
   "id": "010b60c9",
   "metadata": {
    "scrolled": true
   },
   "outputs": [
    {
     "data": {
      "text/plain": [
       "{(2, 1): 1005.4239999999922,\n",
       " (2, 2): 1030.6959999999988,\n",
       " (2, 5): 1132.988,\n",
       " (2, 10): 1493.4159999999997,\n",
       " (2, 20): 2202.3119999999976,\n",
       " (2, 50): 3248.0160000000037,\n",
       " (5, 1): 1048.8499999999945,\n",
       " (5, 2): 1140.930000000001,\n",
       " (5, 5): 1527.2099999999994,\n",
       " (5, 10): 2228.030000000003,\n",
       " (5, 20): 3414.1399999999967,\n",
       " (5, 50): 4088.5299999999957,\n",
       " (10, 1): 1096.759999999996,\n",
       " (10, 2): 1261.5600000000015,\n",
       " (10, 5): 1874.0600000000031,\n",
       " (10, 10): 2994.9599999999996,\n",
       " (10, 20): 3910.6000000000004,\n",
       " (10, 50): 4429.560000000001,\n",
       " (50, 1): 1459.0999999999995,\n",
       " (50, 2): 1969.9,\n",
       " (50, 5): 3432.8000000000015,\n",
       " (50, 10): 4368.900000000003,\n",
       " (50, 20): 4779.500000000008,\n",
       " (50, 50): 5929.600000000016,\n",
       " (100, 1): 1842.0999999999967,\n",
       " (100, 2): 2751.1000000000117,\n",
       " (100, 5): 4170.300000000015,\n",
       " (100, 10): 4747.500000000004,\n",
       " (100, 20): 5515.099999999999,\n",
       " (100, 50): 7843.299999999994}"
      ]
     },
     "execution_count": 89,
     "metadata": {},
     "output_type": "execute_result"
    }
   ],
   "source": [
    "result_dict_np"
   ]
  }
 ],
 "metadata": {
  "kernelspec": {
   "display_name": "Python 3 (ipykernel)",
   "language": "python",
   "name": "python3"
  },
  "language_info": {
   "codemirror_mode": {
    "name": "ipython",
    "version": 3
   },
   "file_extension": ".py",
   "mimetype": "text/x-python",
   "name": "python",
   "nbconvert_exporter": "python",
   "pygments_lexer": "ipython3",
   "version": "3.9.7"
  }
 },
 "nbformat": 4,
 "nbformat_minor": 5
}
