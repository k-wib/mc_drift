{
 "cells": [
  {
   "cell_type": "code",
   "execution_count": 1,
   "id": "f3bfc0b8",
   "metadata": {},
   "outputs": [],
   "source": [
    "import pandas as pd\n",
    "import numpy as np\n",
    "import matplotlib.pyplot as plt\n",
    "from tqdm import tqdm\n",
    "from mcdrift import *"
   ]
  },
  {
   "cell_type": "markdown",
   "id": "c0b07fb5",
   "metadata": {},
   "source": [
    "In this experiment, we would like to compare the performance of P-CDM and NP-CDM, in terms of false negative rates. We set the following parameters:\n",
    "\n",
    "1. $N = 5$ (number of states)\n",
    "\n",
    "2. $T = 10,000$ (sequence length)\n",
    "\n",
    "3. $t^* = 2,000$ (time abrupt change occurs)\n",
    "\n",
    "4. $L = 1,000$ (number of observations guaranteed to come from $P_0$)\n",
    "\n",
    "5. $W \\in \\{2, 5, 10, 50, 100\\}$ (subsequence length)\n",
    "\n",
    "6. $K \\in \\{1, 2, 5, 10, 20, 50\\}$ (detection threshold)\n",
    "\n",
    "We randomly generate $P_0$ and $P_1$ from the standard uniform distribution and normalize such that each row sums to 1. We set $\\pi = (0.2, 0.2, 0.2, 0.2, 0.2)$.\n",
    "\n",
    "Also, we estimate the time of abrupt change using the center of the predicted interval. For example, when $W = 10$ and the change is detected in $s_k$ with $91 \\leq k \\leq 100$, the estimated time is simply $(100+91)/2 = 95.5$.\n",
    "\n",
    "We repeat the experiments $500$ times and calculate the false negative rates."
   ]
  },
  {
   "cell_type": "code",
   "execution_count": 2,
   "id": "3fbacf17",
   "metadata": {},
   "outputs": [],
   "source": [
    "N = 5\n",
    "T = 10000\n",
    "tstar = 2000\n",
    "L = 1000\n",
    "Ws = [2, 5, 10, 50, 100]\n",
    "Ks = [1, 2, 5, 10, 20, 50]\n",
    "pi = np.array([1/5, 1/5, 1/5, 1/5, 1/5])\n",
    "\n",
    "result_dict_p = {}\n",
    "result_dict_np = {}\n",
    "\n",
    "\n",
    "for W in Ws:\n",
    "    for K in Ks:\n",
    "        result_dict_p[(W,K)] = 0\n",
    "        result_dict_np[(W,K)] = 0\n",
    "\n",
    "seed = 2023\n",
    "n_rep = 500"
   ]
  },
  {
   "cell_type": "code",
   "execution_count": 3,
   "id": "045495cf",
   "metadata": {},
   "outputs": [
    {
     "name": "stderr",
     "output_type": "stream",
     "text": [
      "  0%|          | 0/500 [00:00<?, ?it/s]/home/kwib/mcdrift.py:50: RuntimeWarning: divide by zero encountered in log\n",
      "  ll += np.log(tm[seq[i-1], seq[i]])\n",
      "  1%|          | 3/500 [00:02<06:37,  1.25it/s]/home/kwib/mcdrift.py:116: RuntimeWarning: invalid value encountered in scalar subtract\n",
      "  l = ll1 - ll0\n",
      "100%|██████████| 500/500 [12:00<00:00,  1.44s/it]\n"
     ]
    }
   ],
   "source": [
    "np.random.seed(seed)\n",
    "\n",
    "for _ in tqdm(range(n_rep)):\n",
    "    p0 = np.random.rand(N,N)\n",
    "    p0 = p0/p0.sum(axis=1,keepdims=1)\n",
    "    p1 = np.random.rand(N,N)\n",
    "    p1 = p1/p1.sum(axis=1,keepdims=1)\n",
    "\n",
    "    seq_sim = simulate_mc(pi, p0, tstar)\n",
    "    init_vec = np.zeros(N)\n",
    "    init_vec[seq_sim[-1]] = 1\n",
    "    seq_sim_2 = simulate_mc(init_vec, p1, T - tstar + 1)\n",
    "    seq_comb = seq_sim + seq_sim_2[1:]\n",
    "    \n",
    "    for W in Ws:\n",
    "        for K in Ks:\n",
    "            pcdm_res = pcdm(seq_comb, W, p0, p1, K)\n",
    "            npcdm_res = npcdm(seq_comb, W, N, L, K)\n",
    "            if type(pcdm_res) == str:\n",
    "                result_dict_p[(W,K)] += 1/n_rep\n",
    "            if type(npcdm_res) == str:\n",
    "                result_dict_np[(W,K)] += 1/n_rep"
   ]
  },
  {
   "cell_type": "code",
   "execution_count": 8,
   "id": "fbdb2f5a",
   "metadata": {
    "scrolled": true
   },
   "outputs": [
    {
     "data": {
      "text/plain": [
       "{(2, 1): 0,\n",
       " (2, 2): 0,\n",
       " (2, 5): 0,\n",
       " (2, 10): 0,\n",
       " (2, 20): 0,\n",
       " (2, 50): 0.8,\n",
       " (5, 1): 0,\n",
       " (5, 2): 0,\n",
       " (5, 5): 0,\n",
       " (5, 10): 0,\n",
       " (5, 20): 0,\n",
       " (5, 50): 0,\n",
       " (10, 1): 0,\n",
       " (10, 2): 0,\n",
       " (10, 5): 0,\n",
       " (10, 10): 0,\n",
       " (10, 20): 0,\n",
       " (10, 50): 0,\n",
       " (50, 1): 0,\n",
       " (50, 2): 0,\n",
       " (50, 5): 0,\n",
       " (50, 10): 0,\n",
       " (50, 20): 0,\n",
       " (50, 50): 0,\n",
       " (100, 1): 0,\n",
       " (100, 2): 0,\n",
       " (100, 5): 0,\n",
       " (100, 10): 0,\n",
       " (100, 20): 0,\n",
       " (100, 50): 0}"
      ]
     },
     "execution_count": 8,
     "metadata": {},
     "output_type": "execute_result"
    }
   ],
   "source": [
    "{k:100*v for k,v in result_dict_p.items()}"
   ]
  },
  {
   "cell_type": "code",
   "execution_count": 7,
   "id": "1719965c",
   "metadata": {
    "scrolled": true
   },
   "outputs": [
    {
     "data": {
      "text/plain": [
       "{(2, 1): 0,\n",
       " (2, 2): 0.2,\n",
       " (2, 5): 0.8,\n",
       " (2, 10): 3.2000000000000015,\n",
       " (2, 20): 7.400000000000005,\n",
       " (2, 50): 13.80000000000001,\n",
       " (5, 1): 0.4,\n",
       " (5, 2): 1.2,\n",
       " (5, 5): 4.200000000000002,\n",
       " (5, 10): 8.800000000000006,\n",
       " (5, 20): 18.000000000000014,\n",
       " (5, 50): 22.400000000000016,\n",
       " (10, 1): 0.8,\n",
       " (10, 2): 2.2000000000000006,\n",
       " (10, 5): 6.800000000000004,\n",
       " (10, 10): 15.20000000000001,\n",
       " (10, 20): 22.200000000000017,\n",
       " (10, 50): 25.000000000000018,\n",
       " (50, 1): 3.800000000000002,\n",
       " (50, 2): 7.800000000000005,\n",
       " (50, 5): 19.000000000000014,\n",
       " (50, 10): 26.000000000000018,\n",
       " (50, 20): 26.400000000000016,\n",
       " (50, 50): 26.60000000000002,\n",
       " (100, 1): 6.800000000000004,\n",
       " (100, 2): 14.20000000000001,\n",
       " (100, 5): 24.40000000000002,\n",
       " (100, 10): 26.400000000000016,\n",
       " (100, 20): 26.400000000000016,\n",
       " (100, 50): 26.60000000000002}"
      ]
     },
     "execution_count": 7,
     "metadata": {},
     "output_type": "execute_result"
    }
   ],
   "source": [
    "{k:100*v for k,v in result_dict_np.items()}"
   ]
  }
 ],
 "metadata": {
  "kernelspec": {
   "display_name": "Python 3 (ipykernel)",
   "language": "python",
   "name": "python3"
  },
  "language_info": {
   "codemirror_mode": {
    "name": "ipython",
    "version": 3
   },
   "file_extension": ".py",
   "mimetype": "text/x-python",
   "name": "python",
   "nbconvert_exporter": "python",
   "pygments_lexer": "ipython3",
   "version": "3.9.7"
  }
 },
 "nbformat": 4,
 "nbformat_minor": 5
}
